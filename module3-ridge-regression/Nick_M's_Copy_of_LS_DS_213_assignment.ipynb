{
  "nbformat": 4,
  "nbformat_minor": 0,
  "metadata": {
    "kernelspec": {
      "display_name": "Python 3",
      "language": "python",
      "name": "python3"
    },
    "language_info": {
      "codemirror_mode": {
        "name": "ipython",
        "version": 3
      },
      "file_extension": ".py",
      "mimetype": "text/x-python",
      "name": "python",
      "nbconvert_exporter": "python",
      "pygments_lexer": "ipython3",
      "version": "3.7.3"
    },
    "colab": {
      "name": "Nick M's Copy of LS_DS_213_assignment.ipynb",
      "provenance": [],
      "include_colab_link": true
    }
  },
  "cells": [
    {
      "cell_type": "markdown",
      "metadata": {
        "id": "view-in-github",
        "colab_type": "text"
      },
      "source": [
        "<a href=\"https://colab.research.google.com/github/SophistryDude/DS-Unit-2-Linear-Models/blob/master/module3-ridge-regression/Nick_M's_Copy_of_LS_DS_213_assignment.ipynb\" target=\"_parent\"><img src=\"https://colab.research.google.com/assets/colab-badge.svg\" alt=\"Open In Colab\"/></a>"
      ]
    },
    {
      "cell_type": "markdown",
      "metadata": {
        "id": "vygpl0-5bkyB"
      },
      "source": [
        "Lambda School Data Science\n",
        "\n",
        "*Unit 2, Sprint 1, Module 3*\n",
        "\n",
        "---"
      ]
    },
    {
      "cell_type": "markdown",
      "metadata": {
        "id": "7IXUfiQ2UKj6"
      },
      "source": [
        "# Ridge Regression\n",
        "\n",
        "## Assignment\n",
        "\n",
        "We're going back to our other **New York City** real estate dataset. Instead of predicting apartment rents, you'll predict property sales prices.\n",
        "\n",
        "But not just for condos in Tribeca...\n",
        "\n",
        "- [ ] Use a subset of the data where `BUILDING_CLASS_CATEGORY` == `'01 ONE FAMILY DWELLINGS'` and the sale price was more than 100 thousand and less than 2 million.\n",
        "- [ ] Do train/test split. Use data from January — March 2019 to train. Use data from April 2019 to test.\n",
        "- [ ] Do one-hot encoding of categorical features.\n",
        "- [ ] Do feature selection with `SelectKBest`.\n",
        "- [ ] Fit a ridge regression model with multiple features. Use the `normalize=True` parameter (or do [feature scaling](https://scikit-learn.org/stable/modules/preprocessing.html) beforehand — use the scaler's `fit_transform` method with the train set, and the scaler's `transform` method with the test set)\n",
        "- [ ] Get mean absolute error for the test set.\n",
        "- [ ] As always, commit your notebook to your fork of the GitHub repo.\n",
        "\n",
        "The [NYC Department of Finance](https://www1.nyc.gov/site/finance/taxes/property-rolling-sales-data.page) has a glossary of property sales terms and NYC Building Class Code Descriptions. The data comes from the [NYC OpenData](https://data.cityofnewyork.us/browse?q=NYC%20calendar%20sales) portal.\n",
        "\n",
        "\n",
        "## Stretch Goals\n",
        "\n",
        "Don't worry, you aren't expected to do all these stretch goals! These are just ideas to consider and choose from.\n",
        "\n",
        "- [ ] Add your own stretch goal(s) !\n",
        "- [ ] Instead of `Ridge`, try `LinearRegression`. Depending on how many features you select, your errors will probably blow up! 💥\n",
        "- [ ] Instead of `Ridge`, try [`RidgeCV`](https://scikit-learn.org/stable/modules/generated/sklearn.linear_model.RidgeCV.html).\n",
        "- [ ] Learn more about feature selection:\n",
        "    - [\"Permutation importance\"](https://www.kaggle.com/dansbecker/permutation-importance)\n",
        "    - [scikit-learn's User Guide for Feature Selection](https://scikit-learn.org/stable/modules/feature_selection.html)\n",
        "    - [mlxtend](http://rasbt.github.io/mlxtend/) library\n",
        "    - scikit-learn-contrib libraries: [boruta_py](https://github.com/scikit-learn-contrib/boruta_py) & [stability-selection](https://github.com/scikit-learn-contrib/stability-selection)\n",
        "    - [_Feature Engineering and Selection_](http://www.feat.engineering/) by Kuhn & Johnson.\n",
        "- [ ] Try [statsmodels](https://www.statsmodels.org/stable/index.html) if you’re interested in more inferential statistical approach to linear regression and feature selection, looking at p values and 95% confidence intervals for the coefficients.\n",
        "- [ ] Read [_An Introduction to Statistical Learning_](http://faculty.marshall.usc.edu/gareth-james/ISL/ISLR%20Seventh%20Printing.pdf), Chapters 1-3, for more math & theory, but in an accessible, readable way.\n",
        "- [ ] Try [scikit-learn pipelines](https://scikit-learn.org/stable/modules/compose.html)."
      ]
    },
    {
      "cell_type": "code",
      "metadata": {
        "id": "o9eSnDYhUGD7"
      },
      "source": [
        "%%capture\n",
        "\n",
        "import sys\n",
        "import pandas as pd\n",
        "import pandas_profiling\n",
        "import numpy as np\n",
        "import matplotlib.pyplot as plt\n",
        "from sklearn.metrics import mean_absolute_error\n",
        "from sklearn.metrics import mean_squared_error\n",
        "from sklearn.linear_model import LinearRegression\n",
        "from sklearn.metrics import r2_score\n",
        "from sklearn.feature_selection import SelectKBest\n",
        "from sklearn.linear_model import Ridge\n",
        "from sklearn.preprocessing import StandardScaler\n",
        "\n",
        "# If you're on Colab:\n",
        "if 'google.colab' in sys.modules:\n",
        "    DATA_PATH = 'https://raw.githubusercontent.com/LambdaSchool/DS-Unit-2-Applied-Modeling/master/data/'\n",
        "    !pip install category_encoders==2.*\n",
        "\n",
        "# If you're working locally:\n",
        "else:\n",
        "    DATA_PATH = '../data/'\n",
        "    \n",
        "# Ignore this Numpy warning when using Plotly Express:\n",
        "# FutureWarning: Method .ptp is deprecated and will be removed in a future version. Use numpy.ptp instead.\n",
        "from category_encoders import OneHotEncoder\n",
        "import warnings\n",
        "warnings.filterwarnings(action='ignore', category=FutureWarning, module='numpy')"
      ],
      "execution_count": null,
      "outputs": []
    },
    {
      "cell_type": "code",
      "metadata": {
        "id": "QJBD4ruICm1m"
      },
      "source": [
        "# Read New York City property sales data\n",
        "df = pd.read_csv(DATA_PATH+'condos/NYC_Citywide_Rolling_Calendar_Sales.csv',\n",
        "                 parse_dates=['SALE DATE'],  \n",
        "                 index_col='SALE DATE')\n",
        "\n",
        "# Change column names: replace spaces with underscores\n",
        "df.columns = [col.replace(' ', '_') for col in df]\n",
        "\n",
        "# SALE_PRICE was read as strings.\n",
        "# Remove symbols, convert to integer\n",
        "df['SALE_PRICE'] = (\n",
        "    df['SALE_PRICE']\n",
        "    .str.replace('$','')\n",
        "    .str.replace('-','')\n",
        "    .str.replace(',','')\n",
        "    .astype(int)\n",
        ")"
      ],
      "execution_count": null,
      "outputs": []
    },
    {
      "cell_type": "code",
      "metadata": {
        "id": "-6b8MJdbbkyR"
      },
      "source": [
        "# BOROUGH is a numeric column, but arguably should be a categorical feature,\n",
        "# so convert it from a number to a string\n",
        "df['BOROUGH'] = df['BOROUGH'].astype(str)"
      ],
      "execution_count": null,
      "outputs": []
    },
    {
      "cell_type": "code",
      "metadata": {
        "id": "lGydW7GJbkyX"
      },
      "source": [
        "# Reduce cardinality for NEIGHBORHOOD feature\n",
        "\n",
        "# Get a list of the top 10 neighborhoods\n",
        "top10 = df['NEIGHBORHOOD'].value_counts()[:10].index\n",
        "\n",
        "# At locations where the neighborhood is NOT in the top 10, \n",
        "# replace the neighborhood with 'OTHER'\n",
        "df.loc[~df['NEIGHBORHOOD'].isin(top10), 'NEIGHBORHOOD'] = 'OTHER'"
      ],
      "execution_count": null,
      "outputs": []
    },
    {
      "cell_type": "markdown",
      "metadata": {
        "id": "_AtQGyhBfvVy"
      },
      "source": [
        "We need to know how the database handles the sale price numbers so we will sort in descending rate and take a look at the chart. "
      ]
    },
    {
      "cell_type": "code",
      "metadata": {
        "id": "FWuyrwg1ffMd",
        "outputId": "55bba7c3-bb81-4f3c-df9a-b8085637c61d",
        "colab": {
          "base_uri": "https://localhost:8080/",
          "height": 901
        }
      },
      "source": [
        "df.info()\n",
        "df.sort_values(by='SALE_PRICE', ascending=False).head()"
      ],
      "execution_count": null,
      "outputs": [
        {
          "output_type": "stream",
          "text": [
            "<class 'pandas.core.frame.DataFrame'>\n",
            "DatetimeIndex: 23040 entries, 2019-01-01 to 2019-04-30\n",
            "Data columns (total 20 columns):\n",
            " #   Column                          Non-Null Count  Dtype  \n",
            "---  ------                          --------------  -----  \n",
            " 0   BOROUGH                         23040 non-null  object \n",
            " 1   NEIGHBORHOOD                    23040 non-null  object \n",
            " 2   BUILDING_CLASS_CATEGORY         23040 non-null  object \n",
            " 3   TAX_CLASS_AT_PRESENT            23039 non-null  object \n",
            " 4   BLOCK                           23040 non-null  int64  \n",
            " 5   LOT                             23040 non-null  int64  \n",
            " 6   EASE-MENT                       0 non-null      float64\n",
            " 7   BUILDING_CLASS_AT_PRESENT       23039 non-null  object \n",
            " 8   ADDRESS                         23040 non-null  object \n",
            " 9   APARTMENT_NUMBER                5201 non-null   object \n",
            " 10  ZIP_CODE                        23039 non-null  float64\n",
            " 11  RESIDENTIAL_UNITS               23039 non-null  float64\n",
            " 12  COMMERCIAL_UNITS                23039 non-null  float64\n",
            " 13  TOTAL_UNITS                     23039 non-null  float64\n",
            " 14  LAND_SQUARE_FEET                22987 non-null  object \n",
            " 15  GROSS_SQUARE_FEET               23039 non-null  float64\n",
            " 16  YEAR_BUILT                      23005 non-null  float64\n",
            " 17  TAX_CLASS_AT_TIME_OF_SALE       23040 non-null  int64  \n",
            " 18  BUILDING_CLASS_AT_TIME_OF_SALE  23040 non-null  object \n",
            " 19  SALE_PRICE                      23040 non-null  int64  \n",
            "dtypes: float64(7), int64(4), object(9)\n",
            "memory usage: 3.7+ MB\n"
          ],
          "name": "stdout"
        },
        {
          "output_type": "execute_result",
          "data": {
            "text/html": [
              "<div>\n",
              "<style scoped>\n",
              "    .dataframe tbody tr th:only-of-type {\n",
              "        vertical-align: middle;\n",
              "    }\n",
              "\n",
              "    .dataframe tbody tr th {\n",
              "        vertical-align: top;\n",
              "    }\n",
              "\n",
              "    .dataframe thead th {\n",
              "        text-align: right;\n",
              "    }\n",
              "</style>\n",
              "<table border=\"1\" class=\"dataframe\">\n",
              "  <thead>\n",
              "    <tr style=\"text-align: right;\">\n",
              "      <th></th>\n",
              "      <th>BOROUGH</th>\n",
              "      <th>NEIGHBORHOOD</th>\n",
              "      <th>BUILDING_CLASS_CATEGORY</th>\n",
              "      <th>TAX_CLASS_AT_PRESENT</th>\n",
              "      <th>BLOCK</th>\n",
              "      <th>LOT</th>\n",
              "      <th>EASE-MENT</th>\n",
              "      <th>BUILDING_CLASS_AT_PRESENT</th>\n",
              "      <th>ADDRESS</th>\n",
              "      <th>APARTMENT_NUMBER</th>\n",
              "      <th>ZIP_CODE</th>\n",
              "      <th>RESIDENTIAL_UNITS</th>\n",
              "      <th>COMMERCIAL_UNITS</th>\n",
              "      <th>TOTAL_UNITS</th>\n",
              "      <th>LAND_SQUARE_FEET</th>\n",
              "      <th>GROSS_SQUARE_FEET</th>\n",
              "      <th>YEAR_BUILT</th>\n",
              "      <th>TAX_CLASS_AT_TIME_OF_SALE</th>\n",
              "      <th>BUILDING_CLASS_AT_TIME_OF_SALE</th>\n",
              "      <th>SALE_PRICE</th>\n",
              "    </tr>\n",
              "    <tr>\n",
              "      <th>SALE DATE</th>\n",
              "      <th></th>\n",
              "      <th></th>\n",
              "      <th></th>\n",
              "      <th></th>\n",
              "      <th></th>\n",
              "      <th></th>\n",
              "      <th></th>\n",
              "      <th></th>\n",
              "      <th></th>\n",
              "      <th></th>\n",
              "      <th></th>\n",
              "      <th></th>\n",
              "      <th></th>\n",
              "      <th></th>\n",
              "      <th></th>\n",
              "      <th></th>\n",
              "      <th></th>\n",
              "      <th></th>\n",
              "      <th></th>\n",
              "      <th></th>\n",
              "    </tr>\n",
              "  </thead>\n",
              "  <tbody>\n",
              "    <tr>\n",
              "      <th>2019-02-08</th>\n",
              "      <td>1</td>\n",
              "      <td>OTHER</td>\n",
              "      <td>22 STORE BUILDINGS</td>\n",
              "      <td>4</td>\n",
              "      <td>840</td>\n",
              "      <td>42</td>\n",
              "      <td>NaN</td>\n",
              "      <td>K3</td>\n",
              "      <td>424 5 AVENUE</td>\n",
              "      <td>NaN</td>\n",
              "      <td>10018.0</td>\n",
              "      <td>0.0</td>\n",
              "      <td>4.0</td>\n",
              "      <td>4.0</td>\n",
              "      <td>51,271</td>\n",
              "      <td>697029.0</td>\n",
              "      <td>1920.0</td>\n",
              "      <td>4</td>\n",
              "      <td>K3</td>\n",
              "      <td>850000000</td>\n",
              "    </tr>\n",
              "    <tr>\n",
              "      <th>2019-01-08</th>\n",
              "      <td>1</td>\n",
              "      <td>OTHER</td>\n",
              "      <td>21 OFFICE BUILDINGS</td>\n",
              "      <td>4</td>\n",
              "      <td>1321</td>\n",
              "      <td>22</td>\n",
              "      <td>NaN</td>\n",
              "      <td>O4</td>\n",
              "      <td>885 2 AVENUE</td>\n",
              "      <td>NaN</td>\n",
              "      <td>10017.0</td>\n",
              "      <td>0.0</td>\n",
              "      <td>27.0</td>\n",
              "      <td>27.0</td>\n",
              "      <td>40,820</td>\n",
              "      <td>805467.0</td>\n",
              "      <td>1971.0</td>\n",
              "      <td>4</td>\n",
              "      <td>O4</td>\n",
              "      <td>565754371</td>\n",
              "    </tr>\n",
              "    <tr>\n",
              "      <th>2019-01-08</th>\n",
              "      <td>1</td>\n",
              "      <td>OTHER</td>\n",
              "      <td>21 OFFICE BUILDINGS</td>\n",
              "      <td>4</td>\n",
              "      <td>1306</td>\n",
              "      <td>33</td>\n",
              "      <td>NaN</td>\n",
              "      <td>O4</td>\n",
              "      <td>850 THIRD AVENUE</td>\n",
              "      <td>NaN</td>\n",
              "      <td>10022.0</td>\n",
              "      <td>0.0</td>\n",
              "      <td>21.0</td>\n",
              "      <td>21.0</td>\n",
              "      <td>31,632</td>\n",
              "      <td>574675.0</td>\n",
              "      <td>1960.0</td>\n",
              "      <td>4</td>\n",
              "      <td>O4</td>\n",
              "      <td>422000000</td>\n",
              "    </tr>\n",
              "    <tr>\n",
              "      <th>2019-01-23</th>\n",
              "      <td>1</td>\n",
              "      <td>OTHER</td>\n",
              "      <td>25 LUXURY HOTELS</td>\n",
              "      <td>4</td>\n",
              "      <td>1009</td>\n",
              "      <td>19</td>\n",
              "      <td>NaN</td>\n",
              "      <td>H1</td>\n",
              "      <td>118 WEST 57TH STREET</td>\n",
              "      <td>NaN</td>\n",
              "      <td>10019.0</td>\n",
              "      <td>0.0</td>\n",
              "      <td>9.0</td>\n",
              "      <td>9.0</td>\n",
              "      <td>22,092</td>\n",
              "      <td>536719.0</td>\n",
              "      <td>1939.0</td>\n",
              "      <td>4</td>\n",
              "      <td>H1</td>\n",
              "      <td>389858000</td>\n",
              "    </tr>\n",
              "    <tr>\n",
              "      <th>2019-03-11</th>\n",
              "      <td>4</td>\n",
              "      <td>OTHER</td>\n",
              "      <td>08 RENTALS - ELEVATOR APARTMENTS</td>\n",
              "      <td>2</td>\n",
              "      <td>422</td>\n",
              "      <td>7</td>\n",
              "      <td>NaN</td>\n",
              "      <td>D6</td>\n",
              "      <td>42-12 28TH STREET</td>\n",
              "      <td>NaN</td>\n",
              "      <td>11101.0</td>\n",
              "      <td>450.0</td>\n",
              "      <td>1.0</td>\n",
              "      <td>451.0</td>\n",
              "      <td>17,500</td>\n",
              "      <td>483148.0</td>\n",
              "      <td>2015.0</td>\n",
              "      <td>2</td>\n",
              "      <td>D6</td>\n",
              "      <td>335000000</td>\n",
              "    </tr>\n",
              "  </tbody>\n",
              "</table>\n",
              "</div>"
            ],
            "text/plain": [
              "           BOROUGH NEIGHBORHOOD  ... BUILDING_CLASS_AT_TIME_OF_SALE SALE_PRICE\n",
              "SALE DATE                        ...                                          \n",
              "2019-02-08       1        OTHER  ...                             K3  850000000\n",
              "2019-01-08       1        OTHER  ...                             O4  565754371\n",
              "2019-01-08       1        OTHER  ...                             O4  422000000\n",
              "2019-01-23       1        OTHER  ...                             H1  389858000\n",
              "2019-03-11       4        OTHER  ...                             D6  335000000\n",
              "\n",
              "[5 rows x 20 columns]"
            ]
          },
          "metadata": {
            "tags": []
          },
          "execution_count": 6
        }
      ]
    },
    {
      "cell_type": "markdown",
      "metadata": {
        "id": "SisGF8j_s6ag"
      },
      "source": [
        "It makes sense to me to isolate our building category to single family dwellings when setting up our new dataframe. Using this method we're going to change our focus a little bit, since one of the key components of what we're looking at is already isolated. "
      ]
    },
    {
      "cell_type": "code",
      "metadata": {
        "id": "pdCV1psFfP3Z"
      },
      "source": [
        "sfd = df[(df['SALE_PRICE'] >= 100000) & (df['SALE_PRICE'] <= 2000000) & \n",
        "         (df['BUILDING_CLASS_CATEGORY'] == '01 ONE FAMILY DWELLINGS')];"
      ],
      "execution_count": null,
      "outputs": []
    },
    {
      "cell_type": "code",
      "metadata": {
        "id": "O_YYj2pMbkyb",
        "outputId": "9be9f0ad-22b2-430f-dca7-4786730380b9",
        "colab": {
          "base_uri": "https://localhost:8080/",
          "height": 493
        }
      },
      "source": [
        "print(sfd.shape)\n",
        "sfd.info()"
      ],
      "execution_count": null,
      "outputs": [
        {
          "output_type": "stream",
          "text": [
            "(3164, 20)\n",
            "<class 'pandas.core.frame.DataFrame'>\n",
            "DatetimeIndex: 3164 entries, 2019-01-01 to 2019-04-30\n",
            "Data columns (total 20 columns):\n",
            " #   Column                          Non-Null Count  Dtype  \n",
            "---  ------                          --------------  -----  \n",
            " 0   BOROUGH                         3164 non-null   object \n",
            " 1   NEIGHBORHOOD                    3164 non-null   object \n",
            " 2   BUILDING_CLASS_CATEGORY         3164 non-null   object \n",
            " 3   TAX_CLASS_AT_PRESENT            3164 non-null   object \n",
            " 4   BLOCK                           3164 non-null   int64  \n",
            " 5   LOT                             3164 non-null   int64  \n",
            " 6   EASE-MENT                       0 non-null      float64\n",
            " 7   BUILDING_CLASS_AT_PRESENT       3164 non-null   object \n",
            " 8   ADDRESS                         3164 non-null   object \n",
            " 9   APARTMENT_NUMBER                1 non-null      object \n",
            " 10  ZIP_CODE                        3164 non-null   float64\n",
            " 11  RESIDENTIAL_UNITS               3164 non-null   float64\n",
            " 12  COMMERCIAL_UNITS                3164 non-null   float64\n",
            " 13  TOTAL_UNITS                     3164 non-null   float64\n",
            " 14  LAND_SQUARE_FEET                3164 non-null   object \n",
            " 15  GROSS_SQUARE_FEET               3164 non-null   float64\n",
            " 16  YEAR_BUILT                      3164 non-null   float64\n",
            " 17  TAX_CLASS_AT_TIME_OF_SALE       3164 non-null   int64  \n",
            " 18  BUILDING_CLASS_AT_TIME_OF_SALE  3164 non-null   object \n",
            " 19  SALE_PRICE                      3164 non-null   int64  \n",
            "dtypes: float64(7), int64(4), object(9)\n",
            "memory usage: 519.1+ KB\n"
          ],
          "name": "stdout"
        }
      ]
    },
    {
      "cell_type": "markdown",
      "metadata": {
        "id": "usHIQqTVtiR_"
      },
      "source": [
        "Here we have narrowed down our 23,040 entries to just 3,164. Using this new dataset we can analyze other factors. Since Sq Ft is the industry standard, I'm going to use that as one of my x variables. "
      ]
    },
    {
      "cell_type": "code",
      "metadata": {
        "id": "vJiFLRMLc47b",
        "outputId": "6aa64d50-63b2-45e3-f145-fd721d10d543",
        "colab": {
          "base_uri": "https://localhost:8080/",
          "height": 136
        }
      },
      "source": [
        "target = 'SALE_PRICE'\n",
        "y = sfd[target]\n",
        "x = sfd.drop([target]+['TAX_CLASS_AT_PRESENT', 'EASE-MENT', 'TAX_CLASS_AT_TIME_OF_SALE', 'BUILDING_CLASS_AT_TIME_OF_SALE', 'APARTMENT_NUMBER', 'BUILDING_CLASS_AT_PRESENT', 'ADDRESS', 'YEAR_BUILT', 'RESIDENTIAL_UNITS', 'COMMERCIAL_UNITS', 'TOTAL_UNITS', 'LAND_SQUARE_FEET'], axis=1)\n",
        "cutoff = '2019-03-31'\n",
        "mask = x.index < cutoff\n",
        "x_train = x.loc[mask]\n",
        "y_train = y.loc[mask]\n",
        "x_val, y_val = x.loc[~mask], y.loc[~mask]\n",
        "\n",
        "col = 'GROSS_SQUARE_FEET'\n",
        "y_pred = [y_train.mean()]*len(x_train)\n",
        "print('Baseline MAE:', mean_absolute_error(y_train, y_pred))\n",
        "model = LinearRegression()\n",
        "model.fit(x_train[[col]], y_train)\n",
        "print('Training MAE:', mean_absolute_error(y_train, model.predict(x_train[[col]])))\n",
        "print('Validation MAE:', mean_absolute_error(y_val, model.predict(x_val[[col]])))\n",
        "print('Training RMSE:', mean_squared_error(y_train, model.predict(x_train[[col]]), squared=False))\n",
        "print('Validation RMSE:', mean_squared_error(y_val, model.predict(x_val[[col]]), squared=False))\n",
        "print('Training R2:', model.score(x_train[[col]], y_train))\n",
        "print('Validation R2:', model.score(x_val[[col]], y_val))\n"
      ],
      "execution_count": null,
      "outputs": [
        {
          "output_type": "stream",
          "text": [
            "Baseline MAE: 216497.12357684076\n",
            "Training MAE: 195029.1438991597\n",
            "Validation MAE: 185788.22229822693\n",
            "Training RMSE: 262958.15771295485\n",
            "Validation RMSE: 268070.62504900654\n",
            "Training R2: 0.2055472083645218\n",
            "Validation R2: 0.21375946518825703\n"
          ],
          "name": "stdout"
        }
      ]
    },
    {
      "cell_type": "markdown",
      "metadata": {
        "id": "WbEsMYjAkt2Y"
      },
      "source": [
        "# OneHot Encoding"
      ]
    },
    {
      "cell_type": "code",
      "metadata": {
        "id": "rULonYQRzRYY",
        "outputId": "6c29ed6d-3f65-4a1e-f1ab-faee506ce280",
        "colab": {
          "base_uri": "https://localhost:8080/",
          "height": 68
        }
      },
      "source": [
        "x_train.columns"
      ],
      "execution_count": null,
      "outputs": [
        {
          "output_type": "execute_result",
          "data": {
            "text/plain": [
              "Index(['BOROUGH', 'NEIGHBORHOOD', 'BUILDING_CLASS_CATEGORY', 'BLOCK', 'LOT',\n",
              "       'ZIP_CODE', 'GROSS_SQUARE_FEET'],\n",
              "      dtype='object')"
            ]
          },
          "metadata": {
            "tags": []
          },
          "execution_count": 10
        }
      ]
    },
    {
      "cell_type": "code",
      "metadata": {
        "id": "QJoT0d7lkoY5"
      },
      "source": [
        "transformer = OneHotEncoder(use_cat_names=True, cols=['NEIGHBORHOOD', 'BOROUGH', 'BLOCK', 'BUILDING_CLASS_CATEGORY'])\n",
        "\n",
        "transformer.fit(x_train)\n",
        "xt_train = transformer.transform(x_train)\n"
      ],
      "execution_count": null,
      "outputs": []
    },
    {
      "cell_type": "code",
      "metadata": {
        "id": "LoXrUBMDzMd1",
        "outputId": "3555ed7d-324d-41c6-8a68-d8ad9972c0d1",
        "colab": {
          "base_uri": "https://localhost:8080/",
          "height": 170
        }
      },
      "source": [
        "xt_train.columns"
      ],
      "execution_count": null,
      "outputs": [
        {
          "output_type": "execute_result",
          "data": {
            "text/plain": [
              "Index(['BOROUGH_3', 'BOROUGH_4', 'BOROUGH_2', 'BOROUGH_5', 'BOROUGH_1',\n",
              "       'NEIGHBORHOOD_OTHER', 'NEIGHBORHOOD_FLUSHING-NORTH',\n",
              "       'NEIGHBORHOOD_EAST NEW YORK', 'NEIGHBORHOOD_BEDFORD STUYVESANT',\n",
              "       'NEIGHBORHOOD_FOREST HILLS',\n",
              "       ...\n",
              "       'BLOCK_6220.0', 'BLOCK_5720.0', 'BLOCK_5449.0', 'BLOCK_54.0',\n",
              "       'BLOCK_2373.0', 'BLOCK_3395.0', 'BLOCK_11159.0', 'LOT', 'ZIP_CODE',\n",
              "       'GROSS_SQUARE_FEET'],\n",
              "      dtype='object', length=2082)"
            ]
          },
          "metadata": {
            "tags": []
          },
          "execution_count": 12
        }
      ]
    },
    {
      "cell_type": "code",
      "metadata": {
        "id": "jjTKTthu0II9",
        "outputId": "be525f9e-348e-4dc4-8a1a-8baf55e7796f",
        "colab": {
          "base_uri": "https://localhost:8080/",
          "height": 612
        }
      },
      "source": [
        "transformkbest = SelectKBest(k=10)\n",
        "transformkbest.fit(xt_train, y_train)\n",
        "xtt_train = transformkbest.transform(xt_train)"
      ],
      "execution_count": null,
      "outputs": [
        {
          "output_type": "stream",
          "text": [
            "/usr/local/lib/python3.6/dist-packages/sklearn/feature_selection/_univariate_selection.py:114: UserWarning: Features [   4   12   19   25   34   43   55   60   66   67   68   71   74   75\n",
            "   87   94   95   97  108  114  134  145  156  158  160  165  178  186\n",
            "  188  195  204  211  213  231  234  236  242  244  247  259  263  276\n",
            "  291  300  303  311  319  322  325  335  338  346  347  354  356  358\n",
            "  359  367  375  378  381  390  393  397  412  419  434  435  440  446\n",
            "  448  454  463  469  472  479  483  484  487  488  489  499  507  510\n",
            "  512  515  536  538  542  549  556  563  565  566  572  577  579  580\n",
            "  584  585  587  590  592  594  599  600  607  608  614  623  627  636\n",
            "  639  646  649  651  660  663  666  667  674  685  688  708  712  713\n",
            "  714  718  750  759  773  784  785  791  793  799  804  806  809  817\n",
            "  818  827  828  829  831  837  839  842  844  853  854  857  861  865\n",
            "  870  874  881  893  894  897  916  919  928  929  931  934  943  948\n",
            "  949  950  951  952  956  969  974  983  985  989  991  992  994 1000\n",
            " 1002 1014 1017 1018 1020 1021 1022 1026 1030 1038 1042 1047 1052 1053\n",
            " 1056 1066 1072 1073 1074 1081 1091 1104 1105 1112 1115 1116 1120 1124\n",
            " 1129 1132 1142 1143 1147 1151 1157 1163 1164 1166 1170 1176 1177 1182\n",
            " 1183 1184 1195 1201 1213 1215 1219 1220 1225 1230 1233 1235 1242 1270\n",
            " 1274 1283 1286 1295 1296 1315 1316 1317 1318 1320 1325 1333 1334 1336\n",
            " 1338 1342 1347 1354 1358 1363 1365 1369 1377 1378 1379 1384 1390 1400\n",
            " 1402 1403 1407 1408 1412 1415 1418 1420 1423 1426 1429 1432 1446 1447\n",
            " 1456 1468 1469 1475 1479 1481 1484 1494 1495 1502 1507 1512 1513 1525\n",
            " 1536 1538 1547 1549 1552 1557 1564 1573 1574 1578 1586 1592 1595 1596\n",
            " 1598 1602 1605 1606 1612 1617 1626 1628 1629 1635 1638 1643 1646 1648\n",
            " 1650 1654 1661 1662 1672 1675 1676 1678 1680 1681 1704 1709 1714 1736\n",
            " 1742 1743 1749 1755 1762 1774 1775 1777 1779 1781 1789 1800 1805 1811\n",
            " 1819 1827 1832 1836 1838 1840 1846 1847 1851 1852 1858 1864 1867 1871\n",
            " 1874 1875 1879 1880 1881 1886 1887 1891 1892 1894 1920 1923 1927 1929\n",
            " 1941 1945 1946 1953 1955 1956 1958 1965 1969 1976 1982 1991 1993 1995\n",
            " 2011 2018 2021 2022 2025 2028 2030 2031 2032 2037 2039 2041 2043 2048\n",
            " 2049 2056 2058 2064 2065 2066 2067 2069 2070 2078] are constant.\n",
            "  UserWarning)\n",
            "/usr/local/lib/python3.6/dist-packages/sklearn/feature_selection/_univariate_selection.py:115: RuntimeWarning: divide by zero encountered in true_divide\n",
            "  f = msb / msw\n",
            "/usr/local/lib/python3.6/dist-packages/sklearn/feature_selection/_univariate_selection.py:115: RuntimeWarning: invalid value encountered in true_divide\n",
            "  f = msb / msw\n"
          ],
          "name": "stderr"
        }
      ]
    },
    {
      "cell_type": "code",
      "metadata": {
        "id": "dg7q6pDV2R1z",
        "outputId": "de7160eb-2020-4b1d-f878-d019b1697a43",
        "colab": {
          "base_uri": "https://localhost:8080/",
          "height": 34
        }
      },
      "source": [
        "model.fit(xtt_train, y_train)"
      ],
      "execution_count": null,
      "outputs": [
        {
          "output_type": "execute_result",
          "data": {
            "text/plain": [
              "LinearRegression(copy_X=True, fit_intercept=True, n_jobs=None, normalize=False)"
            ]
          },
          "metadata": {
            "tags": []
          },
          "execution_count": 14
        }
      ]
    },
    {
      "cell_type": "markdown",
      "metadata": {
        "id": "APmNNrlY2sNy"
      },
      "source": [
        "# Ridge Regression"
      ]
    },
    {
      "cell_type": "code",
      "metadata": {
        "id": "uakIvFed2iyq",
        "outputId": "1c4cbbeb-99bd-4d57-eafc-c9fbf3f29fbf",
        "colab": {
          "base_uri": "https://localhost:8080/",
          "height": 51
        }
      },
      "source": [
        "predictor = Ridge(alpha=0.1)\n",
        "\n",
        "predictor.fit(xtt_train, y_train)\n"
      ],
      "execution_count": null,
      "outputs": [
        {
          "output_type": "execute_result",
          "data": {
            "text/plain": [
              "Ridge(alpha=0.1, copy_X=True, fit_intercept=True, max_iter=None,\n",
              "      normalize=False, random_state=None, solver='auto', tol=0.001)"
            ]
          },
          "metadata": {
            "tags": []
          },
          "execution_count": 17
        }
      ]
    },
    {
      "cell_type": "code",
      "metadata": {
        "id": "0zqjNHCyqTua",
        "outputId": "0c3518c0-5d91-4030-fce8-b0a1b4ae6629",
        "colab": {
          "base_uri": "https://localhost:8080/",
          "height": 34
        }
      },
      "source": [
        "y_pred = predictor.predict(xtt_train)\n",
        "print('Training MAE:', mean_absolute_error(y_train, y_pred))\n"
      ],
      "execution_count": null,
      "outputs": [
        {
          "output_type": "stream",
          "text": [
            "Training MAE: 215081.38835855745\n"
          ],
          "name": "stdout"
        }
      ]
    },
    {
      "cell_type": "code",
      "metadata": {
        "id": "wSVB6Sc5qiL1",
        "outputId": "58cb8721-cd58-4229-806d-bfc214b23ff1",
        "colab": {
          "base_uri": "https://localhost:8080/",
          "height": 214
        }
      },
      "source": [
        "xt_val = transformer.tranform(x_val)\n",
        "xtt_val = transformkbest.transform(xt_val)\n",
        "y_pred = predictor.predict(xtt_val)\n",
        "print('Training MAE:', mean_absolute_error(y_val, y_pred))"
      ],
      "execution_count": null,
      "outputs": [
        {
          "output_type": "error",
          "ename": "NameError",
          "evalue": "ignored",
          "traceback": [
            "\u001b[0;31m---------------------------------------------------------------------------\u001b[0m",
            "\u001b[0;31mNameError\u001b[0m                                 Traceback (most recent call last)",
            "\u001b[0;32m<ipython-input-22-f1a13da35ed9>\u001b[0m in \u001b[0;36m<module>\u001b[0;34m()\u001b[0m\n\u001b[1;32m      1\u001b[0m \u001b[0;31m#xt_val = transformer.tranform(x_val)\u001b[0m\u001b[0;34m\u001b[0m\u001b[0;34m\u001b[0m\u001b[0;34m\u001b[0m\u001b[0m\n\u001b[0;32m----> 2\u001b[0;31m \u001b[0mxtt_val\u001b[0m \u001b[0;34m=\u001b[0m \u001b[0mtransformkbest\u001b[0m\u001b[0;34m.\u001b[0m\u001b[0mtransform\u001b[0m\u001b[0;34m(\u001b[0m\u001b[0mxt_val\u001b[0m\u001b[0;34m)\u001b[0m\u001b[0;34m\u001b[0m\u001b[0;34m\u001b[0m\u001b[0m\n\u001b[0m\u001b[1;32m      3\u001b[0m \u001b[0my_pred\u001b[0m \u001b[0;34m=\u001b[0m \u001b[0mpredictor\u001b[0m\u001b[0;34m.\u001b[0m\u001b[0mpredict\u001b[0m\u001b[0;34m(\u001b[0m\u001b[0mxtt_val\u001b[0m\u001b[0;34m)\u001b[0m\u001b[0;34m\u001b[0m\u001b[0;34m\u001b[0m\u001b[0m\n\u001b[1;32m      4\u001b[0m \u001b[0mprint\u001b[0m\u001b[0;34m(\u001b[0m\u001b[0;34m'Training MAE:'\u001b[0m\u001b[0;34m,\u001b[0m \u001b[0mmean_absolute_error\u001b[0m\u001b[0;34m(\u001b[0m\u001b[0my_val\u001b[0m\u001b[0;34m,\u001b[0m \u001b[0my_pred\u001b[0m\u001b[0;34m)\u001b[0m\u001b[0;34m)\u001b[0m\u001b[0;34m\u001b[0m\u001b[0;34m\u001b[0m\u001b[0m\n",
            "\u001b[0;31mNameError\u001b[0m: name 'xt_val' is not defined"
          ]
        }
      ]
    }
  ]
}